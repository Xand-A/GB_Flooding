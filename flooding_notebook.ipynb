{
 "cells": [
  {
   "cell_type": "code",
   "execution_count": 1,
   "metadata": {},
   "outputs": [],
   "source": [
    "from src.floodwarningdata import *\n",
    "from src.polygons import flood_warning_areas"
   ]
  },
  {
   "cell_type": "code",
   "execution_count": 2,
   "metadata": {},
   "outputs": [],
   "source": [
    "fwas = flood_warning_areas()\n",
    "flood_warnings = build_flood_database()"
   ]
  },
  {
   "cell_type": "code",
   "execution_count": 3,
   "metadata": {},
   "outputs": [
    {
     "data": {
      "text/html": [
       "<div>\n",
       "<style scoped>\n",
       "    .dataframe tbody tr th:only-of-type {\n",
       "        vertical-align: middle;\n",
       "    }\n",
       "\n",
       "    .dataframe tbody tr th {\n",
       "        vertical-align: top;\n",
       "    }\n",
       "\n",
       "    .dataframe thead th {\n",
       "        text-align: right;\n",
       "    }\n",
       "</style>\n",
       "<table border=\"1\" class=\"dataframe\">\n",
       "  <thead>\n",
       "    <tr style=\"text-align: right;\">\n",
       "      <th></th>\n",
       "      <th>flood_id</th>\n",
       "      <th>description</th>\n",
       "      <th>message</th>\n",
       "      <th>area_name</th>\n",
       "      <th>FWS_TACODE</th>\n",
       "      <th>severity</th>\n",
       "      <th>county</th>\n",
       "      <th>river_or_sea</th>\n",
       "      <th>time_raised</th>\n",
       "      <th>time_message_changed</th>\n",
       "      <th>time_severity_changed</th>\n",
       "    </tr>\n",
       "  </thead>\n",
       "  <tbody>\n",
       "  </tbody>\n",
       "</table>\n",
       "</div>"
      ],
      "text/plain": [
       "Empty DataFrame\n",
       "Columns: [flood_id, description, message, area_name, FWS_TACODE, severity, county, river_or_sea, time_raised, time_message_changed, time_severity_changed]\n",
       "Index: []"
      ]
     },
     "execution_count": 3,
     "metadata": {},
     "output_type": "execute_result"
    }
   ],
   "source": [
    "flood_warnings"
   ]
  },
  {
   "cell_type": "code",
   "execution_count": 4,
   "metadata": {},
   "outputs": [],
   "source": [
    "residual_alerts = alerts_without_fwas(flood_warnings, fwas)"
   ]
  },
  {
   "cell_type": "code",
   "execution_count": 5,
   "metadata": {},
   "outputs": [
    {
     "data": {
      "text/plain": [
       "0"
      ]
     },
     "execution_count": 5,
     "metadata": {},
     "output_type": "execute_result"
    }
   ],
   "source": [
    "len(residual_alerts)"
   ]
  },
  {
   "cell_type": "code",
   "execution_count": 6,
   "metadata": {},
   "outputs": [],
   "source": [
    "## Buffer flood warning areas by 100m to capture any additional flooding (surface water)\n",
    "active_fwas = fwas.merge(flood_warnings, on=\"FWS_TACODE\", how = \"inner\")\n",
    "buffer = active_fwas.geometry.buffer(100.0)\n",
    "active_fwas.geometry = buffer"
   ]
  },
  {
   "cell_type": "code",
   "execution_count": 7,
   "metadata": {},
   "outputs": [
    {
     "data": {
      "text/html": [
       "<div>\n",
       "<style scoped>\n",
       "    .dataframe tbody tr th:only-of-type {\n",
       "        vertical-align: middle;\n",
       "    }\n",
       "\n",
       "    .dataframe tbody tr th {\n",
       "        vertical-align: top;\n",
       "    }\n",
       "\n",
       "    .dataframe thead th {\n",
       "        text-align: right;\n",
       "    }\n",
       "</style>\n",
       "<table border=\"1\" class=\"dataframe\">\n",
       "  <thead>\n",
       "    <tr style=\"text-align: right;\">\n",
       "      <th></th>\n",
       "      <th>AREA</th>\n",
       "      <th>FWS_TACODE</th>\n",
       "      <th>TA_NAME</th>\n",
       "      <th>DESCRIP</th>\n",
       "      <th>LA_NAME</th>\n",
       "      <th>QDIAL</th>\n",
       "      <th>RIVER_SEA</th>\n",
       "      <th>geometry</th>\n",
       "      <th>objectid</th>\n",
       "      <th>region</th>\n",
       "      <th>...</th>\n",
       "      <th>flood_id</th>\n",
       "      <th>description</th>\n",
       "      <th>message</th>\n",
       "      <th>area_name</th>\n",
       "      <th>severity</th>\n",
       "      <th>county</th>\n",
       "      <th>river_or_sea</th>\n",
       "      <th>time_raised</th>\n",
       "      <th>time_message_changed</th>\n",
       "      <th>time_severity_changed</th>\n",
       "    </tr>\n",
       "  </thead>\n",
       "  <tbody>\n",
       "  </tbody>\n",
       "</table>\n",
       "<p>0 rows × 38 columns</p>\n",
       "</div>"
      ],
      "text/plain": [
       "Empty GeoDataFrame\n",
       "Columns: [AREA, FWS_TACODE, TA_NAME, DESCRIP, LA_NAME, QDIAL, RIVER_SEA, geometry, objectid, region, area, fwd_tacode, fwis_code, fwa_name, descrip, river_sea, parent, e_qdial, w_region, w_fwa_name, w_descrip, w_afon, w_qdial, ta_address, fwd_reg, fwd_reg_da, pub_reg, globalid, flood_id, description, message, area_name, severity, county, river_or_sea, time_raised, time_message_changed, time_severity_changed]\n",
       "Index: []\n",
       "\n",
       "[0 rows x 38 columns]"
      ]
     },
     "execution_count": 7,
     "metadata": {},
     "output_type": "execute_result"
    }
   ],
   "source": [
    "active_fwas.head()"
   ]
  }
 ],
 "metadata": {
  "kernelspec": {
   "display_name": "Python 3",
   "language": "python",
   "name": "python3"
  },
  "language_info": {
   "codemirror_mode": {
    "name": "ipython",
    "version": 3
   },
   "file_extension": ".py",
   "mimetype": "text/x-python",
   "name": "python",
   "nbconvert_exporter": "python",
   "pygments_lexer": "ipython3",
   "version": "3.11.9"
  }
 },
 "nbformat": 4,
 "nbformat_minor": 2
}
